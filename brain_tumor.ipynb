{
 "cells": [
  {
   "cell_type": "code",
   "execution_count": 34,
   "metadata": {},
   "outputs": [],
   "source": [
    "import tensorflow as tf\n",
    "from keras.preprocessing.image import ImageDataGenerator"
   ]
  },
  {
   "cell_type": "code",
   "execution_count": 35,
   "metadata": {},
   "outputs": [
    {
     "name": "stdout",
     "output_type": "stream",
     "text": [
      "Found 2870 images belonging to 4 classes.\n"
     ]
    }
   ],
   "source": [
    "training_datagen = ImageDataGenerator(\n",
    "    rescale = 1./255,\n",
    "    shear_range = 0.2,\n",
    "    zoom_range = 0.2,\n",
    "    horizontal_flip = True)\n",
    "training_set = training_datagen.flow_from_directory(\n",
    "    'Training',\n",
    "    target_size = (64, 64),\n",
    "    batch_size = 32,\n",
    "    class_mode = 'categorical'\n",
    ")"
   ]
  },
  {
   "cell_type": "code",
   "execution_count": 36,
   "metadata": {},
   "outputs": [
    {
     "name": "stdout",
     "output_type": "stream",
     "text": [
      "Found 393 images belonging to 4 classes.\n"
     ]
    }
   ],
   "source": [
    "test_datagen = ImageDataGenerator(\n",
    "    rescale = 1./255)\n",
    "test_set = test_datagen.flow_from_directory(\n",
    "    'Testing',\n",
    "    target_size = (64, 64),\n",
    "    batch_size = 32,\n",
    "    class_mode = 'categorical'\n",
    ")"
   ]
  },
  {
   "cell_type": "code",
   "execution_count": 37,
   "metadata": {},
   "outputs": [],
   "source": [
    "cnn = tf.keras.models.Sequential()"
   ]
  },
  {
   "cell_type": "code",
   "execution_count": 38,
   "metadata": {},
   "outputs": [],
   "source": [
    "cnn.add(tf.keras.layers.Conv2D(filters = 32, kernel_size = 3, input_shape = [64, 64, 3], activation = 'relu'))"
   ]
  },
  {
   "cell_type": "code",
   "execution_count": 39,
   "metadata": {},
   "outputs": [],
   "source": [
    "cnn.add(tf.keras.layers.MaxPool2D(pool_size = 2, strides = 2))"
   ]
  },
  {
   "cell_type": "code",
   "execution_count": 40,
   "metadata": {},
   "outputs": [],
   "source": [
    "cnn.add(tf.keras.layers.Conv2D(filters = 32, kernel_size = 3, activation = 'relu'))\n",
    "cnn.add(tf.keras.layers.MaxPool2D(pool_size = 2, strides = 2))"
   ]
  },
  {
   "cell_type": "code",
   "execution_count": 41,
   "metadata": {},
   "outputs": [],
   "source": [
    "cnn.add(tf.keras.layers.Flatten())"
   ]
  },
  {
   "cell_type": "code",
   "execution_count": 42,
   "metadata": {},
   "outputs": [],
   "source": [
    "cnn.add(tf.keras.layers.Dense(units = 128, activation = 'relu'))"
   ]
  },
  {
   "cell_type": "code",
   "execution_count": 43,
   "metadata": {},
   "outputs": [],
   "source": [
    "cnn.add(tf.keras.layers.Dense(units = 4, activation = 'softmax'))"
   ]
  },
  {
   "cell_type": "code",
   "execution_count": 44,
   "metadata": {},
   "outputs": [],
   "source": [
    "cnn.compile(optimizer = 'adam', loss = 'categorical_crossentropy', metrics = ['accuracy'])"
   ]
  },
  {
   "cell_type": "code",
   "execution_count": 45,
   "metadata": {},
   "outputs": [
    {
     "name": "stdout",
     "output_type": "stream",
     "text": [
      "Epoch 1/50\n",
      "90/90 [==============================] - 47s 493ms/step - loss: 1.1146 - accuracy: 0.5129 - val_loss: 1.9825 - val_accuracy: 0.3613\n",
      "Epoch 2/50\n",
      "90/90 [==============================] - 39s 433ms/step - loss: 0.8434 - accuracy: 0.6463 - val_loss: 2.1682 - val_accuracy: 0.3690\n",
      "Epoch 3/50\n",
      "90/90 [==============================] - 39s 433ms/step - loss: 0.7350 - accuracy: 0.6951 - val_loss: 1.8580 - val_accuracy: 0.4707\n",
      "Epoch 4/50\n",
      "90/90 [==============================] - 64s 709ms/step - loss: 0.6653 - accuracy: 0.7230 - val_loss: 3.2097 - val_accuracy: 0.3690\n",
      "Epoch 5/50\n",
      "90/90 [==============================] - 38s 424ms/step - loss: 0.6124 - accuracy: 0.7547 - val_loss: 2.4305 - val_accuracy: 0.5344\n",
      "Epoch 6/50\n",
      "90/90 [==============================] - 45s 499ms/step - loss: 0.5358 - accuracy: 0.7787 - val_loss: 2.5730 - val_accuracy: 0.4987\n",
      "Epoch 7/50\n",
      "90/90 [==============================] - 36s 401ms/step - loss: 0.5022 - accuracy: 0.7979 - val_loss: 2.2083 - val_accuracy: 0.5471\n",
      "Epoch 8/50\n",
      "90/90 [==============================] - 54s 606ms/step - loss: 0.4645 - accuracy: 0.8115 - val_loss: 2.1611 - val_accuracy: 0.5700\n",
      "Epoch 9/50\n",
      "90/90 [==============================] - 65s 720ms/step - loss: 0.4490 - accuracy: 0.8160 - val_loss: 2.2726 - val_accuracy: 0.6183\n",
      "Epoch 10/50\n",
      "90/90 [==============================] - 59s 648ms/step - loss: 0.3988 - accuracy: 0.8429 - val_loss: 2.6022 - val_accuracy: 0.5903\n",
      "Epoch 11/50\n",
      "90/90 [==============================] - 54s 604ms/step - loss: 0.3832 - accuracy: 0.8516 - val_loss: 2.5280 - val_accuracy: 0.5344\n",
      "Epoch 12/50\n",
      "90/90 [==============================] - 53s 590ms/step - loss: 0.3619 - accuracy: 0.8613 - val_loss: 2.3874 - val_accuracy: 0.6361\n",
      "Epoch 13/50\n",
      "90/90 [==============================] - 87s 940ms/step - loss: 0.3402 - accuracy: 0.8672 - val_loss: 2.6409 - val_accuracy: 0.6005\n",
      "Epoch 14/50\n",
      "90/90 [==============================] - 75s 827ms/step - loss: 0.3241 - accuracy: 0.8728 - val_loss: 2.6935 - val_accuracy: 0.6412\n",
      "Epoch 15/50\n",
      "90/90 [==============================] - 38s 421ms/step - loss: 0.3067 - accuracy: 0.8801 - val_loss: 2.5925 - val_accuracy: 0.6539\n",
      "Epoch 16/50\n",
      "90/90 [==============================] - 32s 350ms/step - loss: 0.2982 - accuracy: 0.8882 - val_loss: 2.7654 - val_accuracy: 0.6310\n",
      "Epoch 17/50\n",
      "90/90 [==============================] - 31s 349ms/step - loss: 0.2559 - accuracy: 0.9087 - val_loss: 2.5326 - val_accuracy: 0.6743\n",
      "Epoch 18/50\n",
      "90/90 [==============================] - 32s 350ms/step - loss: 0.2449 - accuracy: 0.9118 - val_loss: 3.1695 - val_accuracy: 0.6234\n",
      "Epoch 19/50\n",
      "90/90 [==============================] - 53s 589ms/step - loss: 0.2552 - accuracy: 0.9024 - val_loss: 2.7058 - val_accuracy: 0.6997\n",
      "Epoch 20/50\n",
      "90/90 [==============================] - 48s 531ms/step - loss: 0.2304 - accuracy: 0.9164 - val_loss: 3.1709 - val_accuracy: 0.6845\n",
      "Epoch 21/50\n",
      "90/90 [==============================] - 60s 658ms/step - loss: 0.2478 - accuracy: 0.9056 - val_loss: 2.9780 - val_accuracy: 0.6438\n",
      "Epoch 22/50\n",
      "90/90 [==============================] - 38s 423ms/step - loss: 0.2197 - accuracy: 0.9160 - val_loss: 3.0027 - val_accuracy: 0.6845\n",
      "Epoch 23/50\n",
      "90/90 [==============================] - 40s 448ms/step - loss: 0.2010 - accuracy: 0.9240 - val_loss: 2.9173 - val_accuracy: 0.6997\n",
      "Epoch 24/50\n",
      "90/90 [==============================] - 41s 455ms/step - loss: 0.1944 - accuracy: 0.9195 - val_loss: 3.0728 - val_accuracy: 0.6819\n",
      "Epoch 25/50\n",
      "90/90 [==============================] - 39s 430ms/step - loss: 0.2012 - accuracy: 0.9213 - val_loss: 2.9371 - val_accuracy: 0.6921\n",
      "Epoch 26/50\n",
      "90/90 [==============================] - 38s 421ms/step - loss: 0.1572 - accuracy: 0.9443 - val_loss: 2.9498 - val_accuracy: 0.6667\n",
      "Epoch 27/50\n",
      "90/90 [==============================] - 40s 449ms/step - loss: 0.1640 - accuracy: 0.9380 - val_loss: 3.1165 - val_accuracy: 0.7328\n",
      "Epoch 28/50\n",
      "90/90 [==============================] - 48s 533ms/step - loss: 0.1615 - accuracy: 0.9425 - val_loss: 3.1262 - val_accuracy: 0.7023\n",
      "Epoch 29/50\n",
      "90/90 [==============================] - 47s 517ms/step - loss: 0.1532 - accuracy: 0.9446 - val_loss: 3.4303 - val_accuracy: 0.7099\n",
      "Epoch 30/50\n",
      "90/90 [==============================] - 46s 505ms/step - loss: 0.1472 - accuracy: 0.9439 - val_loss: 3.0940 - val_accuracy: 0.6870\n",
      "Epoch 31/50\n",
      "90/90 [==============================] - 53s 584ms/step - loss: 0.1242 - accuracy: 0.9557 - val_loss: 2.9823 - val_accuracy: 0.6896\n",
      "Epoch 32/50\n",
      "90/90 [==============================] - 45s 502ms/step - loss: 0.1463 - accuracy: 0.9439 - val_loss: 3.5118 - val_accuracy: 0.7150\n",
      "Epoch 33/50\n",
      "90/90 [==============================] - 44s 492ms/step - loss: 0.1146 - accuracy: 0.9603 - val_loss: 3.0940 - val_accuracy: 0.7226\n",
      "Epoch 34/50\n",
      "90/90 [==============================] - 54s 597ms/step - loss: 0.1173 - accuracy: 0.9551 - val_loss: 4.0194 - val_accuracy: 0.6997\n",
      "Epoch 35/50\n",
      "90/90 [==============================] - 46s 505ms/step - loss: 0.1039 - accuracy: 0.9627 - val_loss: 3.5457 - val_accuracy: 0.7303\n",
      "Epoch 36/50\n",
      "90/90 [==============================] - 51s 564ms/step - loss: 0.1340 - accuracy: 0.9474 - val_loss: 4.0907 - val_accuracy: 0.6870\n",
      "Epoch 37/50\n",
      "90/90 [==============================] - 41s 456ms/step - loss: 0.1174 - accuracy: 0.9568 - val_loss: 4.0017 - val_accuracy: 0.7176\n",
      "Epoch 38/50\n",
      "90/90 [==============================] - 38s 417ms/step - loss: 0.0965 - accuracy: 0.9655 - val_loss: 3.8778 - val_accuracy: 0.7176\n",
      "Epoch 39/50\n",
      "90/90 [==============================] - 46s 510ms/step - loss: 0.1029 - accuracy: 0.9610 - val_loss: 3.9555 - val_accuracy: 0.7405\n",
      "Epoch 40/50\n",
      "90/90 [==============================] - 42s 468ms/step - loss: 0.0940 - accuracy: 0.9666 - val_loss: 4.1997 - val_accuracy: 0.7099\n",
      "Epoch 41/50\n",
      "90/90 [==============================] - 39s 438ms/step - loss: 0.0784 - accuracy: 0.9725 - val_loss: 4.0590 - val_accuracy: 0.7176\n",
      "Epoch 42/50\n",
      "90/90 [==============================] - 44s 490ms/step - loss: 0.0840 - accuracy: 0.9704 - val_loss: 3.9582 - val_accuracy: 0.7201\n",
      "Epoch 43/50\n",
      "90/90 [==============================] - 47s 524ms/step - loss: 0.0844 - accuracy: 0.9704 - val_loss: 3.6708 - val_accuracy: 0.7379\n",
      "Epoch 44/50\n",
      "90/90 [==============================] - 40s 442ms/step - loss: 0.0823 - accuracy: 0.9707 - val_loss: 3.8410 - val_accuracy: 0.7150\n",
      "Epoch 45/50\n",
      "90/90 [==============================] - 32s 360ms/step - loss: 0.0743 - accuracy: 0.9721 - val_loss: 4.7570 - val_accuracy: 0.7125\n",
      "Epoch 46/50\n",
      "90/90 [==============================] - 37s 414ms/step - loss: 0.0863 - accuracy: 0.9700 - val_loss: 3.9579 - val_accuracy: 0.7252\n",
      "Epoch 47/50\n",
      "90/90 [==============================] - 39s 433ms/step - loss: 0.0574 - accuracy: 0.9819 - val_loss: 4.3122 - val_accuracy: 0.7074\n",
      "Epoch 48/50\n",
      "90/90 [==============================] - 39s 433ms/step - loss: 0.1110 - accuracy: 0.9596 - val_loss: 4.6011 - val_accuracy: 0.7252\n",
      "Epoch 49/50\n",
      "90/90 [==============================] - 41s 448ms/step - loss: 0.0536 - accuracy: 0.9829 - val_loss: 4.4972 - val_accuracy: 0.7176\n",
      "Epoch 50/50\n",
      "90/90 [==============================] - 40s 445ms/step - loss: 0.0505 - accuracy: 0.9847 - val_loss: 4.0798 - val_accuracy: 0.7176\n"
     ]
    },
    {
     "data": {
      "text/plain": [
       "<keras.callbacks.History at 0x1efb07364a0>"
      ]
     },
     "execution_count": 45,
     "metadata": {},
     "output_type": "execute_result"
    }
   ],
   "source": [
    "cnn.fit(x = training_set, validation_data = test_set, epochs = 50)"
   ]
  },
  {
   "cell_type": "code",
   "execution_count": 46,
   "metadata": {},
   "outputs": [
    {
     "name": "stdout",
     "output_type": "stream",
     "text": [
      "1/1 [==============================] - 0s 482ms/step\n",
      "Your brain has no tumor\n"
     ]
    }
   ],
   "source": [
    "from tensorflow.keras import utils\n",
    "import numpy as np\n",
    "test_image = utils.load_img('image(26).jpg', target_size =(64, 64))\n",
    "test_image = utils.img_to_array(test_image)\n",
    "test_image = np.expand_dims(test_image, axis = 0)\n",
    "result = cnn.predict(test_image)\n",
    "prediction = np.argmax(result, axis = 1)\n",
    "if prediction == 0:\n",
    "    predict = 'Your brain has Glioma Tumor'\n",
    "elif prediction == 1:\n",
    "    predict = 'Your brain has Meningioma_tumor'\n",
    "elif prediction == 2:\n",
    "    predict = 'Your brain has no tumor'\n",
    "else:\n",
    "    predict = 'Your brain has Pituitary Tumor'\n",
    "\n",
    "print(predict)"
   ]
  },
  {
   "cell_type": "code",
   "execution_count": 48,
   "metadata": {},
   "outputs": [],
   "source": [
    "from tensorflow.keras.models import save_model\n",
    "cnn.save('brain_tumor.h5')"
   ]
  }
 ],
 "metadata": {
  "kernelspec": {
   "display_name": "Python 3",
   "language": "python",
   "name": "python3"
  },
  "language_info": {
   "codemirror_mode": {
    "name": "ipython",
    "version": 3
   },
   "file_extension": ".py",
   "mimetype": "text/x-python",
   "name": "python",
   "nbconvert_exporter": "python",
   "pygments_lexer": "ipython3",
   "version": "3.10.0"
  }
 },
 "nbformat": 4,
 "nbformat_minor": 2
}
